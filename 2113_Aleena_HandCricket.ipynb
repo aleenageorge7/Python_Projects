{
 "cells": [
  {
   "cell_type": "markdown",
   "metadata": {},
   "source": [
    "***"
   ]
  },
  {
   "cell_type": "code",
   "execution_count": 1,
   "metadata": {},
   "outputs": [
    {
     "name": "stdout",
     "output_type": "stream",
     "text": [
      "----------------------------------------\n",
      "🏏 Welcome to Hand Cricket Game 🏏\n",
      "----------------------------------------\n",
      "\n",
      "Your Batting Turn! Choose a number between 1-6\n"
     ]
    },
    {
     "name": "stdin",
     "output_type": "stream",
     "text": [
      "Your choice:  4\n"
     ]
    },
    {
     "name": "stdout",
     "output_type": "stream",
     "text": [
      "Computer bowled: 5\n",
      "Your Score: 4\n"
     ]
    },
    {
     "name": "stdin",
     "output_type": "stream",
     "text": [
      "Your choice:  6\n"
     ]
    },
    {
     "name": "stdout",
     "output_type": "stream",
     "text": [
      "Computer bowled: 3\n",
      "Your Score: 10\n"
     ]
    },
    {
     "name": "stdin",
     "output_type": "stream",
     "text": [
      "Your choice:  3\n"
     ]
    },
    {
     "name": "stdout",
     "output_type": "stream",
     "text": [
      "Computer bowled: 4\n",
      "Your Score: 13\n"
     ]
    },
    {
     "name": "stdin",
     "output_type": "stream",
     "text": [
      "Your choice:  6\n"
     ]
    },
    {
     "name": "stdout",
     "output_type": "stream",
     "text": [
      "Computer bowled: 2\n",
      "Your Score: 19\n"
     ]
    },
    {
     "name": "stdin",
     "output_type": "stream",
     "text": [
      "Your choice:  6\n"
     ]
    },
    {
     "name": "stdout",
     "output_type": "stream",
     "text": [
      "Computer bowled: 5\n",
      "Your Score: 25\n"
     ]
    },
    {
     "name": "stdin",
     "output_type": "stream",
     "text": [
      "Your choice:  4\n"
     ]
    },
    {
     "name": "stdout",
     "output_type": "stream",
     "text": [
      "Computer bowled: 5\n",
      "Your Score: 29\n"
     ]
    },
    {
     "name": "stdin",
     "output_type": "stream",
     "text": [
      "Your choice:  1\n"
     ]
    },
    {
     "name": "stdout",
     "output_type": "stream",
     "text": [
      "Computer bowled: 3\n",
      "Your Score: 30\n"
     ]
    },
    {
     "name": "stdin",
     "output_type": "stream",
     "text": [
      "Your choice:  6\n"
     ]
    },
    {
     "name": "stdout",
     "output_type": "stream",
     "text": [
      "Computer bowled: 3\n",
      "Your Score: 36\n"
     ]
    },
    {
     "name": "stdin",
     "output_type": "stream",
     "text": [
      "Your choice:  4\n"
     ]
    },
    {
     "name": "stdout",
     "output_type": "stream",
     "text": [
      "Computer bowled: 4\n",
      "You're OUT!\n",
      "----------------------------------------\n",
      "\n",
      "Computer's Batting Turn! Try to get it OUT.\n"
     ]
    },
    {
     "name": "stdin",
     "output_type": "stream",
     "text": [
      "Your bowl (1-6):  6\n"
     ]
    },
    {
     "name": "stdout",
     "output_type": "stream",
     "text": [
      "Computer played: 1\n",
      "Computer Score: 1\n"
     ]
    },
    {
     "name": "stdin",
     "output_type": "stream",
     "text": [
      "Your bowl (1-6):  3\n"
     ]
    },
    {
     "name": "stdout",
     "output_type": "stream",
     "text": [
      "Computer played: 2\n",
      "Computer Score: 3\n"
     ]
    },
    {
     "name": "stdin",
     "output_type": "stream",
     "text": [
      "Your bowl (1-6):  2\n"
     ]
    },
    {
     "name": "stdout",
     "output_type": "stream",
     "text": [
      "Computer played: 2\n",
      "Computer is OUT!\n",
      "----------------------------------------\n",
      "Final Scores => You: 36, Computer: 3\n",
      "🎉 You WON the match!\n",
      "----------------------------------------\n"
     ]
    },
    {
     "name": "stdin",
     "output_type": "stream",
     "text": [
      "\n",
      "Do you want to play again? (y/n):  n\n"
     ]
    },
    {
     "name": "stdout",
     "output_type": "stream",
     "text": [
      "Thanks for playing Hand Cricket! 👋\n"
     ]
    }
   ],
   "source": [
    "import random\n",
    "\n",
    "def print_line():\n",
    "    print(\"-\" * 40)\n",
    "\n",
    "def user_batting():\n",
    "    score = 0\n",
    "    print(\"\\nYour Batting Turn! Choose a number between 1-6\")\n",
    "    while True:\n",
    "        try:\n",
    "            user = int(input(\"Your choice: \"))\n",
    "            if user < 1 or user > 6:\n",
    "                print(\"Please choose a number between 1 and 6.\")\n",
    "                continue\n",
    "        except ValueError:\n",
    "            print(\"Invalid input. Try again.\")\n",
    "            continue\n",
    "        \n",
    "        comp = random.randint(1, 6)\n",
    "        print(f\"Computer bowled: {comp}\")\n",
    "        if user == comp:\n",
    "            print(\"You're OUT!\")\n",
    "            break\n",
    "        else:\n",
    "            score += user\n",
    "            print(f\"Your Score: {score}\")\n",
    "    return score\n",
    "\n",
    "def computer_batting(target):\n",
    "    score = 0\n",
    "    print(\"\\nComputer's Batting Turn! Try to get it OUT.\")\n",
    "    while True:\n",
    "        try:\n",
    "            user = int(input(\"Your bowl (1-6): \"))\n",
    "            if user < 1 or user > 6:\n",
    "                print(\"Please choose a number between 1 and 6.\")\n",
    "                continue\n",
    "        except ValueError:\n",
    "            print(\"Invalid input. Try again.\")\n",
    "            continue\n",
    "\n",
    "        comp = random.randint(1, 6)\n",
    "        print(f\"Computer played: {comp}\")\n",
    "        if user == comp:\n",
    "            print(\"Computer is OUT!\")\n",
    "            break\n",
    "        else:\n",
    "            score += comp\n",
    "            print(f\"Computer Score: {score}\")\n",
    "            if score > target:\n",
    "                print(\"Computer beat your score!\")\n",
    "                break\n",
    "    return score\n",
    "\n",
    "def check_winner(user_score, comp_score):\n",
    "    print_line()\n",
    "    print(f\"Final Scores => You: {user_score}, Computer: {comp_score}\")\n",
    "    if user_score > comp_score:\n",
    "        print(\"🎉 You WON the match!\")\n",
    "    elif user_score < comp_score:\n",
    "        print(\"💻 Computer WON the match!\")\n",
    "    else:\n",
    "        print(\"🤝 It's a TIE!\")\n",
    "    print_line()\n",
    "\n",
    "def play_game():\n",
    "    print_line()\n",
    "    print(\"🏏 Welcome to Hand Cricket Game 🏏\")\n",
    "    print_line()\n",
    "    \n",
    "    user_score = user_batting()\n",
    "    print_line()\n",
    "    comp_score = computer_batting(user_score)\n",
    "    \n",
    "    check_winner(user_score, comp_score)\n",
    "\n",
    "while True:\n",
    "    play_game()\n",
    "    again = input(\"\\nDo you want to play again? (y/n): \").lower()\n",
    "    if again != 'y':\n",
    "        print(\"Thanks for playing Hand Cricket! 👋\")\n",
    "        break\n"
   ]
  },
  {
   "cell_type": "markdown",
   "metadata": {},
   "source": [
    "***"
   ]
  },
  {
   "cell_type": "markdown",
   "metadata": {},
   "source": [
    "# <center><a href = \"http://edure.in/\"><span style = \"color:CornflowerBlue; font-family:Courier New;font-size:40px\">EDURE LEARNING</span></a></center>"
   ]
  }
 ],
 "metadata": {
  "kernelspec": {
   "display_name": "Python 3 (ipykernel)",
   "language": "python",
   "name": "python3"
  },
  "language_info": {
   "codemirror_mode": {
    "name": "ipython",
    "version": 3
   },
   "file_extension": ".py",
   "mimetype": "text/x-python",
   "name": "python",
   "nbconvert_exporter": "python",
   "pygments_lexer": "ipython3",
   "version": "3.12.7"
  }
 },
 "nbformat": 4,
 "nbformat_minor": 4
}
